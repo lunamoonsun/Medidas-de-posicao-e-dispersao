{
 "cells": [
  {
   "cell_type": "markdown",
   "id": "960f6935",
   "metadata": {},
   "source": [
    "# 1. Medidas de posição e dispersão"
   ]
  },
  {
   "cell_type": "code",
   "execution_count": 1,
   "id": "687b09d2",
   "metadata": {},
   "outputs": [],
   "source": [
    "import pandas as pd\n",
    "import numpy as np\n",
    "import statistics\n",
    "from scipy import stats\n",
    "import math"
   ]
  },
  {
   "cell_type": "code",
   "execution_count": 2,
   "id": "d9c7ca1e",
   "metadata": {},
   "outputs": [],
   "source": [
    "dados = np.array([150,151,152,152,153,154,155,155,155,155,156,156,156,\n",
    "                 157,158,158,160,160,160,160,160,160,161,161,161,161,162,\n",
    "                 163,163,164,164,164,165,166,167,168,168,169,170,172])"
   ]
  },
  {
   "cell_type": "markdown",
   "id": "b2be5c65",
   "metadata": {},
   "source": [
    "### Média aritmética simples"
   ]
  },
  {
   "cell_type": "code",
   "execution_count": 3,
   "id": "184b3717",
   "metadata": {},
   "outputs": [
    {
     "data": {
      "text/plain": [
       "160.05"
      ]
     },
     "execution_count": 3,
     "metadata": {},
     "output_type": "execute_result"
    }
   ],
   "source": [
    "# Média aritmética simples\n",
    "\n",
    "dados.sum()/len(dados)"
   ]
  },
  {
   "cell_type": "code",
   "execution_count": 4,
   "id": "e10a7c7d",
   "metadata": {},
   "outputs": [
    {
     "data": {
      "text/plain": [
       "160.05"
      ]
     },
     "execution_count": 4,
     "metadata": {},
     "output_type": "execute_result"
    }
   ],
   "source": [
    "# Usando o numpy\n",
    "\n",
    "dados.mean()"
   ]
  },
  {
   "cell_type": "code",
   "execution_count": 5,
   "id": "a4523394",
   "metadata": {},
   "outputs": [
    {
     "data": {
      "text/plain": [
       "160"
      ]
     },
     "execution_count": 5,
     "metadata": {},
     "output_type": "execute_result"
    }
   ],
   "source": [
    "# Usando o statistics\n",
    "\n",
    "statistics.mean(dados)"
   ]
  },
  {
   "cell_type": "markdown",
   "id": "38acab83",
   "metadata": {},
   "source": [
    "#### Moda"
   ]
  },
  {
   "cell_type": "code",
   "execution_count": 6,
   "id": "70b6fb06",
   "metadata": {},
   "outputs": [
    {
     "data": {
      "text/plain": [
       "160"
      ]
     },
     "execution_count": 6,
     "metadata": {},
     "output_type": "execute_result"
    }
   ],
   "source": [
    "# Moda por statistics\n",
    "\n",
    "statistics.mode(dados)"
   ]
  },
  {
   "cell_type": "code",
   "execution_count": 7,
   "id": "bf8d99f7",
   "metadata": {},
   "outputs": [
    {
     "data": {
      "text/plain": [
       "ModeResult(mode=array([160]), count=array([6]))"
      ]
     },
     "execution_count": 7,
     "metadata": {},
     "output_type": "execute_result"
    }
   ],
   "source": [
    "# Demonstra a moda, o valor que mais aparece e quantas vezes\n",
    "\n",
    "stats.mode(dados)"
   ]
  },
  {
   "cell_type": "markdown",
   "id": "030e70d8",
   "metadata": {},
   "source": [
    "#### Mediana"
   ]
  },
  {
   "cell_type": "code",
   "execution_count": 8,
   "id": "022331cb",
   "metadata": {},
   "outputs": [],
   "source": [
    "dados_impar = [150, 151, 152, 152, 153, 154, 155, 155, 155]"
   ]
  },
  {
   "cell_type": "code",
   "execution_count": 9,
   "id": "9e9bff4a",
   "metadata": {},
   "outputs": [
    {
     "data": {
      "text/plain": [
       "4.5"
      ]
     },
     "execution_count": 9,
     "metadata": {},
     "output_type": "execute_result"
    }
   ],
   "source": [
    "# Cálculo da posição do valor sendo impar\n",
    "\n",
    "posicao = len(dados_impar)/2\n",
    "posicao"
   ]
  },
  {
   "cell_type": "code",
   "execution_count": 10,
   "id": "8afa0afc",
   "metadata": {},
   "outputs": [
    {
     "data": {
      "text/plain": [
       "5"
      ]
     },
     "execution_count": 10,
     "metadata": {},
     "output_type": "execute_result"
    }
   ],
   "source": [
    "posicao = math.ceil(posicao)\n",
    "posicao\n",
    "\n",
    "# Logo a posicao vai ser na 5"
   ]
  },
  {
   "cell_type": "code",
   "execution_count": 11,
   "id": "922db608",
   "metadata": {},
   "outputs": [
    {
     "data": {
      "text/plain": [
       "153"
      ]
     },
     "execution_count": 11,
     "metadata": {},
     "output_type": "execute_result"
    }
   ],
   "source": [
    "dados_impar[posicao - 1]\n",
    "\n",
    "# Valor que está na posicao definida"
   ]
  },
  {
   "cell_type": "code",
   "execution_count": 12,
   "id": "1c044ff9",
   "metadata": {},
   "outputs": [
    {
     "data": {
      "text/plain": [
       "20"
      ]
     },
     "execution_count": 12,
     "metadata": {},
     "output_type": "execute_result"
    }
   ],
   "source": [
    "# Cálculo da posicao do valor sendo par\n",
    "\n",
    "posicao = len(dados)//2\n",
    "posicao"
   ]
  },
  {
   "cell_type": "code",
   "execution_count": 13,
   "id": "a262e807",
   "metadata": {},
   "outputs": [
    {
     "data": {
      "text/plain": [
       "(160, 160)"
      ]
     },
     "execution_count": 13,
     "metadata": {},
     "output_type": "execute_result"
    }
   ],
   "source": [
    "dados[posicao -1], dados[posicao]"
   ]
  },
  {
   "cell_type": "code",
   "execution_count": 14,
   "id": "41ae10f1",
   "metadata": {},
   "outputs": [
    {
     "data": {
      "text/plain": [
       "160.0"
      ]
     },
     "execution_count": 14,
     "metadata": {},
     "output_type": "execute_result"
    }
   ],
   "source": [
    "mediana = (dados[posicao-1]+dados[posicao])/2\n",
    "mediana"
   ]
  },
  {
   "cell_type": "markdown",
   "id": "173e9b8c",
   "metadata": {},
   "source": [
    "#### Utilizando as bibliotecas"
   ]
  },
  {
   "cell_type": "code",
   "execution_count": 15,
   "id": "67159271",
   "metadata": {},
   "outputs": [
    {
     "data": {
      "text/plain": [
       "153.0"
      ]
     },
     "execution_count": 15,
     "metadata": {},
     "output_type": "execute_result"
    }
   ],
   "source": [
    "# impar\n",
    "\n",
    "np.median(dados_impar)"
   ]
  },
  {
   "cell_type": "code",
   "execution_count": 16,
   "id": "09ac836b",
   "metadata": {},
   "outputs": [
    {
     "data": {
      "text/plain": [
       "160.0"
      ]
     },
     "execution_count": 16,
     "metadata": {},
     "output_type": "execute_result"
    }
   ],
   "source": [
    "# par\n",
    "\n",
    "np.median(dados)"
   ]
  },
  {
   "cell_type": "code",
   "execution_count": 17,
   "id": "3590e556",
   "metadata": {},
   "outputs": [
    {
     "data": {
      "text/plain": [
       "153"
      ]
     },
     "execution_count": 17,
     "metadata": {},
     "output_type": "execute_result"
    }
   ],
   "source": [
    "statistics.median(dados_impar)"
   ]
  },
  {
   "cell_type": "code",
   "execution_count": 18,
   "id": "76f57295",
   "metadata": {},
   "outputs": [
    {
     "data": {
      "text/plain": [
       "160.0"
      ]
     },
     "execution_count": 18,
     "metadata": {},
     "output_type": "execute_result"
    }
   ],
   "source": [
    "statistics.median(dados)"
   ]
  },
  {
   "cell_type": "markdown",
   "id": "a7bcebfe",
   "metadata": {},
   "source": [
    "#### Média aritmética ponderada"
   ]
  },
  {
   "cell_type": "code",
   "execution_count": 19,
   "id": "927cf591",
   "metadata": {},
   "outputs": [],
   "source": [
    "notas = np.array([9,8,7,3])\n",
    "pesos = np.array([1,2,3,4])"
   ]
  },
  {
   "cell_type": "code",
   "execution_count": 20,
   "id": "d1cfbf16",
   "metadata": {},
   "outputs": [
    {
     "data": {
      "text/plain": [
       "5.8"
      ]
     },
     "execution_count": 20,
     "metadata": {},
     "output_type": "execute_result"
    }
   ],
   "source": [
    "# manual\n",
    "\n",
    "(9*1+8*2+7*3+3*4)/(1+2+3+4)"
   ]
  },
  {
   "cell_type": "code",
   "execution_count": 21,
   "id": "05fcbde3",
   "metadata": {},
   "outputs": [
    {
     "data": {
      "text/plain": [
       "5.8"
      ]
     },
     "execution_count": 21,
     "metadata": {},
     "output_type": "execute_result"
    }
   ],
   "source": [
    "media_ponderada = (notas * pesos).sum() / pesos.sum()\n",
    "media_ponderada"
   ]
  },
  {
   "cell_type": "code",
   "execution_count": 22,
   "id": "fb451c96",
   "metadata": {},
   "outputs": [
    {
     "data": {
      "text/plain": [
       "5.8"
      ]
     },
     "execution_count": 22,
     "metadata": {},
     "output_type": "execute_result"
    }
   ],
   "source": [
    "# Calculo atraves do numpy\n",
    "\n",
    "np.average(notas, weights=pesos)"
   ]
  },
  {
   "cell_type": "markdown",
   "id": "e805d4d4",
   "metadata": {},
   "source": [
    "# Média aritmética, moda e mediana com a distribuição de frequência (dados agrupados)"
   ]
  },
  {
   "cell_type": "code",
   "execution_count": 23,
   "id": "ac0b7b69",
   "metadata": {},
   "outputs": [],
   "source": [
    "dados = {'inferior': [150, 154, 158, 162, 166, 170],\n",
    "        'superior': [154, 158, 162, 166, 170, 174],\n",
    "        'fi': [5, 9, 11, 7, 5, 3]}"
   ]
  },
  {
   "cell_type": "code",
   "execution_count": 24,
   "id": "aa9c7511",
   "metadata": {},
   "outputs": [],
   "source": [
    "dataset = pd.DataFrame(dados)"
   ]
  },
  {
   "cell_type": "code",
   "execution_count": 25,
   "id": "83882a8b",
   "metadata": {},
   "outputs": [
    {
     "data": {
      "text/html": [
       "<div>\n",
       "<style scoped>\n",
       "    .dataframe tbody tr th:only-of-type {\n",
       "        vertical-align: middle;\n",
       "    }\n",
       "\n",
       "    .dataframe tbody tr th {\n",
       "        vertical-align: top;\n",
       "    }\n",
       "\n",
       "    .dataframe thead th {\n",
       "        text-align: right;\n",
       "    }\n",
       "</style>\n",
       "<table border=\"1\" class=\"dataframe\">\n",
       "  <thead>\n",
       "    <tr style=\"text-align: right;\">\n",
       "      <th></th>\n",
       "      <th>inferior</th>\n",
       "      <th>superior</th>\n",
       "      <th>fi</th>\n",
       "    </tr>\n",
       "  </thead>\n",
       "  <tbody>\n",
       "    <tr>\n",
       "      <th>0</th>\n",
       "      <td>150</td>\n",
       "      <td>154</td>\n",
       "      <td>5</td>\n",
       "    </tr>\n",
       "    <tr>\n",
       "      <th>1</th>\n",
       "      <td>154</td>\n",
       "      <td>158</td>\n",
       "      <td>9</td>\n",
       "    </tr>\n",
       "    <tr>\n",
       "      <th>2</th>\n",
       "      <td>158</td>\n",
       "      <td>162</td>\n",
       "      <td>11</td>\n",
       "    </tr>\n",
       "    <tr>\n",
       "      <th>3</th>\n",
       "      <td>162</td>\n",
       "      <td>166</td>\n",
       "      <td>7</td>\n",
       "    </tr>\n",
       "    <tr>\n",
       "      <th>4</th>\n",
       "      <td>166</td>\n",
       "      <td>170</td>\n",
       "      <td>5</td>\n",
       "    </tr>\n",
       "    <tr>\n",
       "      <th>5</th>\n",
       "      <td>170</td>\n",
       "      <td>174</td>\n",
       "      <td>3</td>\n",
       "    </tr>\n",
       "  </tbody>\n",
       "</table>\n",
       "</div>"
      ],
      "text/plain": [
       "   inferior  superior  fi\n",
       "0       150       154   5\n",
       "1       154       158   9\n",
       "2       158       162  11\n",
       "3       162       166   7\n",
       "4       166       170   5\n",
       "5       170       174   3"
      ]
     },
     "execution_count": 25,
     "metadata": {},
     "output_type": "execute_result"
    }
   ],
   "source": [
    "dataset"
   ]
  },
  {
   "cell_type": "code",
   "execution_count": 26,
   "id": "38713fb3",
   "metadata": {},
   "outputs": [],
   "source": [
    "# Calculando o ponto médio da classe\n",
    "\n",
    "dataset['xi'] = (dataset['superior'] + dataset['inferior']) / 2"
   ]
  },
  {
   "cell_type": "code",
   "execution_count": 27,
   "id": "3e09a20c",
   "metadata": {},
   "outputs": [
    {
     "data": {
      "text/html": [
       "<div>\n",
       "<style scoped>\n",
       "    .dataframe tbody tr th:only-of-type {\n",
       "        vertical-align: middle;\n",
       "    }\n",
       "\n",
       "    .dataframe tbody tr th {\n",
       "        vertical-align: top;\n",
       "    }\n",
       "\n",
       "    .dataframe thead th {\n",
       "        text-align: right;\n",
       "    }\n",
       "</style>\n",
       "<table border=\"1\" class=\"dataframe\">\n",
       "  <thead>\n",
       "    <tr style=\"text-align: right;\">\n",
       "      <th></th>\n",
       "      <th>inferior</th>\n",
       "      <th>superior</th>\n",
       "      <th>fi</th>\n",
       "      <th>xi</th>\n",
       "      <th>fi.xi</th>\n",
       "    </tr>\n",
       "  </thead>\n",
       "  <tbody>\n",
       "    <tr>\n",
       "      <th>0</th>\n",
       "      <td>150</td>\n",
       "      <td>154</td>\n",
       "      <td>5</td>\n",
       "      <td>152.0</td>\n",
       "      <td>760.0</td>\n",
       "    </tr>\n",
       "    <tr>\n",
       "      <th>1</th>\n",
       "      <td>154</td>\n",
       "      <td>158</td>\n",
       "      <td>9</td>\n",
       "      <td>156.0</td>\n",
       "      <td>1404.0</td>\n",
       "    </tr>\n",
       "    <tr>\n",
       "      <th>2</th>\n",
       "      <td>158</td>\n",
       "      <td>162</td>\n",
       "      <td>11</td>\n",
       "      <td>160.0</td>\n",
       "      <td>1760.0</td>\n",
       "    </tr>\n",
       "    <tr>\n",
       "      <th>3</th>\n",
       "      <td>162</td>\n",
       "      <td>166</td>\n",
       "      <td>7</td>\n",
       "      <td>164.0</td>\n",
       "      <td>1148.0</td>\n",
       "    </tr>\n",
       "    <tr>\n",
       "      <th>4</th>\n",
       "      <td>166</td>\n",
       "      <td>170</td>\n",
       "      <td>5</td>\n",
       "      <td>168.0</td>\n",
       "      <td>840.0</td>\n",
       "    </tr>\n",
       "    <tr>\n",
       "      <th>5</th>\n",
       "      <td>170</td>\n",
       "      <td>174</td>\n",
       "      <td>3</td>\n",
       "      <td>172.0</td>\n",
       "      <td>516.0</td>\n",
       "    </tr>\n",
       "  </tbody>\n",
       "</table>\n",
       "</div>"
      ],
      "text/plain": [
       "   inferior  superior  fi     xi   fi.xi\n",
       "0       150       154   5  152.0   760.0\n",
       "1       154       158   9  156.0  1404.0\n",
       "2       158       162  11  160.0  1760.0\n",
       "3       162       166   7  164.0  1148.0\n",
       "4       166       170   5  168.0   840.0\n",
       "5       170       174   3  172.0   516.0"
      ]
     },
     "execution_count": 27,
     "metadata": {},
     "output_type": "execute_result"
    }
   ],
   "source": [
    "# Criando uma nova coluna e multiplcando fi * xi\n",
    "\n",
    "dataset['fi.xi'] = dataset['fi'] * dataset['xi']\n",
    "dataset"
   ]
  },
  {
   "cell_type": "code",
   "execution_count": 28,
   "id": "0d8b1425",
   "metadata": {},
   "outputs": [
    {
     "data": {
      "text/html": [
       "<div>\n",
       "<style scoped>\n",
       "    .dataframe tbody tr th:only-of-type {\n",
       "        vertical-align: middle;\n",
       "    }\n",
       "\n",
       "    .dataframe tbody tr th {\n",
       "        vertical-align: top;\n",
       "    }\n",
       "\n",
       "    .dataframe thead th {\n",
       "        text-align: right;\n",
       "    }\n",
       "</style>\n",
       "<table border=\"1\" class=\"dataframe\">\n",
       "  <thead>\n",
       "    <tr style=\"text-align: right;\">\n",
       "      <th></th>\n",
       "      <th>inferior</th>\n",
       "      <th>superior</th>\n",
       "      <th>fi</th>\n",
       "      <th>xi</th>\n",
       "      <th>fi.xi</th>\n",
       "      <th>Fi</th>\n",
       "    </tr>\n",
       "  </thead>\n",
       "  <tbody>\n",
       "    <tr>\n",
       "      <th>0</th>\n",
       "      <td>150</td>\n",
       "      <td>154</td>\n",
       "      <td>5</td>\n",
       "      <td>152.0</td>\n",
       "      <td>760.0</td>\n",
       "      <td>0</td>\n",
       "    </tr>\n",
       "    <tr>\n",
       "      <th>1</th>\n",
       "      <td>154</td>\n",
       "      <td>158</td>\n",
       "      <td>9</td>\n",
       "      <td>156.0</td>\n",
       "      <td>1404.0</td>\n",
       "      <td>0</td>\n",
       "    </tr>\n",
       "    <tr>\n",
       "      <th>2</th>\n",
       "      <td>158</td>\n",
       "      <td>162</td>\n",
       "      <td>11</td>\n",
       "      <td>160.0</td>\n",
       "      <td>1760.0</td>\n",
       "      <td>0</td>\n",
       "    </tr>\n",
       "    <tr>\n",
       "      <th>3</th>\n",
       "      <td>162</td>\n",
       "      <td>166</td>\n",
       "      <td>7</td>\n",
       "      <td>164.0</td>\n",
       "      <td>1148.0</td>\n",
       "      <td>0</td>\n",
       "    </tr>\n",
       "    <tr>\n",
       "      <th>4</th>\n",
       "      <td>166</td>\n",
       "      <td>170</td>\n",
       "      <td>5</td>\n",
       "      <td>168.0</td>\n",
       "      <td>840.0</td>\n",
       "      <td>0</td>\n",
       "    </tr>\n",
       "    <tr>\n",
       "      <th>5</th>\n",
       "      <td>170</td>\n",
       "      <td>174</td>\n",
       "      <td>3</td>\n",
       "      <td>172.0</td>\n",
       "      <td>516.0</td>\n",
       "      <td>0</td>\n",
       "    </tr>\n",
       "  </tbody>\n",
       "</table>\n",
       "</div>"
      ],
      "text/plain": [
       "   inferior  superior  fi     xi   fi.xi  Fi\n",
       "0       150       154   5  152.0   760.0   0\n",
       "1       154       158   9  156.0  1404.0   0\n",
       "2       158       162  11  160.0  1760.0   0\n",
       "3       162       166   7  164.0  1148.0   0\n",
       "4       166       170   5  168.0   840.0   0\n",
       "5       170       174   3  172.0   516.0   0"
      ]
     },
     "execution_count": 28,
     "metadata": {},
     "output_type": "execute_result"
    }
   ],
   "source": [
    "# Calculo da frequência acumulada\n",
    "\n",
    "dataset['Fi'] = 0 \n",
    "dataset"
   ]
  },
  {
   "cell_type": "code",
   "execution_count": 29,
   "id": "5540e189",
   "metadata": {},
   "outputs": [],
   "source": [
    "# Criando a frequencia acumulada\n",
    "\n",
    "frequencia_acumulada = []\n",
    "somatorio = 0\n",
    "\n",
    "for linha in dataset.iterrows(): # iterrows serve para percorrer a linha\n",
    "    somatorio = somatorio + linha[1][2]\n",
    "    frequencia_acumulada.append(somatorio)"
   ]
  },
  {
   "cell_type": "code",
   "execution_count": 30,
   "id": "29a93bd4",
   "metadata": {},
   "outputs": [
    {
     "data": {
      "text/plain": [
       "[5.0, 14.0, 25.0, 32.0, 37.0, 40.0]"
      ]
     },
     "execution_count": 30,
     "metadata": {},
     "output_type": "execute_result"
    }
   ],
   "source": [
    "frequencia_acumulada"
   ]
  },
  {
   "cell_type": "code",
   "execution_count": 31,
   "id": "94141fca",
   "metadata": {},
   "outputs": [],
   "source": [
    "dataset['Fi'] = frequencia_acumulada"
   ]
  },
  {
   "cell_type": "code",
   "execution_count": 32,
   "id": "d3357be6",
   "metadata": {},
   "outputs": [
    {
     "data": {
      "text/html": [
       "<div>\n",
       "<style scoped>\n",
       "    .dataframe tbody tr th:only-of-type {\n",
       "        vertical-align: middle;\n",
       "    }\n",
       "\n",
       "    .dataframe tbody tr th {\n",
       "        vertical-align: top;\n",
       "    }\n",
       "\n",
       "    .dataframe thead th {\n",
       "        text-align: right;\n",
       "    }\n",
       "</style>\n",
       "<table border=\"1\" class=\"dataframe\">\n",
       "  <thead>\n",
       "    <tr style=\"text-align: right;\">\n",
       "      <th></th>\n",
       "      <th>inferior</th>\n",
       "      <th>superior</th>\n",
       "      <th>fi</th>\n",
       "      <th>xi</th>\n",
       "      <th>fi.xi</th>\n",
       "      <th>Fi</th>\n",
       "    </tr>\n",
       "  </thead>\n",
       "  <tbody>\n",
       "    <tr>\n",
       "      <th>0</th>\n",
       "      <td>150</td>\n",
       "      <td>154</td>\n",
       "      <td>5</td>\n",
       "      <td>152.0</td>\n",
       "      <td>760.0</td>\n",
       "      <td>5.0</td>\n",
       "    </tr>\n",
       "    <tr>\n",
       "      <th>1</th>\n",
       "      <td>154</td>\n",
       "      <td>158</td>\n",
       "      <td>9</td>\n",
       "      <td>156.0</td>\n",
       "      <td>1404.0</td>\n",
       "      <td>14.0</td>\n",
       "    </tr>\n",
       "    <tr>\n",
       "      <th>2</th>\n",
       "      <td>158</td>\n",
       "      <td>162</td>\n",
       "      <td>11</td>\n",
       "      <td>160.0</td>\n",
       "      <td>1760.0</td>\n",
       "      <td>25.0</td>\n",
       "    </tr>\n",
       "    <tr>\n",
       "      <th>3</th>\n",
       "      <td>162</td>\n",
       "      <td>166</td>\n",
       "      <td>7</td>\n",
       "      <td>164.0</td>\n",
       "      <td>1148.0</td>\n",
       "      <td>32.0</td>\n",
       "    </tr>\n",
       "    <tr>\n",
       "      <th>4</th>\n",
       "      <td>166</td>\n",
       "      <td>170</td>\n",
       "      <td>5</td>\n",
       "      <td>168.0</td>\n",
       "      <td>840.0</td>\n",
       "      <td>37.0</td>\n",
       "    </tr>\n",
       "    <tr>\n",
       "      <th>5</th>\n",
       "      <td>170</td>\n",
       "      <td>174</td>\n",
       "      <td>3</td>\n",
       "      <td>172.0</td>\n",
       "      <td>516.0</td>\n",
       "      <td>40.0</td>\n",
       "    </tr>\n",
       "  </tbody>\n",
       "</table>\n",
       "</div>"
      ],
      "text/plain": [
       "   inferior  superior  fi     xi   fi.xi    Fi\n",
       "0       150       154   5  152.0   760.0   5.0\n",
       "1       154       158   9  156.0  1404.0  14.0\n",
       "2       158       162  11  160.0  1760.0  25.0\n",
       "3       162       166   7  164.0  1148.0  32.0\n",
       "4       166       170   5  168.0   840.0  37.0\n",
       "5       170       174   3  172.0   516.0  40.0"
      ]
     },
     "execution_count": 32,
     "metadata": {},
     "output_type": "execute_result"
    }
   ],
   "source": [
    "dataset"
   ]
  },
  {
   "cell_type": "code",
   "execution_count": 33,
   "id": "0559289b",
   "metadata": {},
   "outputs": [
    {
     "data": {
      "text/plain": [
       "160.7"
      ]
     },
     "execution_count": 33,
     "metadata": {},
     "output_type": "execute_result"
    }
   ],
   "source": [
    "# Cálculo da média \n",
    "\n",
    "dataset['fi.xi'].sum() / dataset['fi'].sum()"
   ]
  },
  {
   "cell_type": "code",
   "execution_count": 34,
   "id": "6b3802cb",
   "metadata": {},
   "outputs": [
    {
     "data": {
      "text/html": [
       "<div>\n",
       "<style scoped>\n",
       "    .dataframe tbody tr th:only-of-type {\n",
       "        vertical-align: middle;\n",
       "    }\n",
       "\n",
       "    .dataframe tbody tr th {\n",
       "        vertical-align: top;\n",
       "    }\n",
       "\n",
       "    .dataframe thead th {\n",
       "        text-align: right;\n",
       "    }\n",
       "</style>\n",
       "<table border=\"1\" class=\"dataframe\">\n",
       "  <thead>\n",
       "    <tr style=\"text-align: right;\">\n",
       "      <th></th>\n",
       "      <th>inferior</th>\n",
       "      <th>superior</th>\n",
       "      <th>fi</th>\n",
       "      <th>xi</th>\n",
       "      <th>fi.xi</th>\n",
       "      <th>Fi</th>\n",
       "    </tr>\n",
       "  </thead>\n",
       "  <tbody>\n",
       "    <tr>\n",
       "      <th>2</th>\n",
       "      <td>158</td>\n",
       "      <td>162</td>\n",
       "      <td>11</td>\n",
       "      <td>160.0</td>\n",
       "      <td>1760.0</td>\n",
       "      <td>25.0</td>\n",
       "    </tr>\n",
       "  </tbody>\n",
       "</table>\n",
       "</div>"
      ],
      "text/plain": [
       "   inferior  superior  fi     xi   fi.xi    Fi\n",
       "2       158       162  11  160.0  1760.0  25.0"
      ]
     },
     "execution_count": 34,
     "metadata": {},
     "output_type": "execute_result"
    }
   ],
   "source": [
    "# Cálculo da moda\n",
    "\n",
    "# dataset['fi'].max() # Retorna a quantidade de valor que mais aparece\n",
    "\n",
    "dataset[dataset['fi'] == dataset['fi'].max()] "
   ]
  },
  {
   "cell_type": "code",
   "execution_count": 35,
   "id": "e7440f86",
   "metadata": {},
   "outputs": [
    {
     "data": {
      "text/plain": [
       "160.0"
      ]
     },
     "execution_count": 35,
     "metadata": {},
     "output_type": "execute_result"
    }
   ],
   "source": [
    "dataset[dataset['fi'] == dataset['fi'].max()]['xi'].values[0]"
   ]
  },
  {
   "cell_type": "code",
   "execution_count": 36,
   "id": "fccbee7b",
   "metadata": {},
   "outputs": [],
   "source": [
    "# Calculo da mediana\n",
    "\n",
    "fi_2 = dataset['fi'].sum() / 2 # Retorna a posição \n",
    "limite_inferior, frequencia_classe, id_frequencia_anterior = 0, 0, 0\n",
    "\n",
    "for linha in dataset.iterrows():\n",
    "    limite_inferior = linha[1][0]\n",
    "    frequencia_classe = linha[1][2]\n",
    "    id_frequencia_anterior = linha[0]\n",
    "    \n",
    "    if linha[1][5] >= fi_2:\n",
    "        id_frequencia_anterior -= 1\n",
    "        break"
   ]
  },
  {
   "cell_type": "code",
   "execution_count": 37,
   "id": "7fdc9e2d",
   "metadata": {},
   "outputs": [
    {
     "data": {
      "text/plain": [
       "(158.0, 11.0, 1)"
      ]
     },
     "execution_count": 37,
     "metadata": {},
     "output_type": "execute_result"
    }
   ],
   "source": [
    "limite_inferior, frequencia_classe, id_frequencia_anterior"
   ]
  },
  {
   "cell_type": "code",
   "execution_count": 38,
   "id": "ecd07e8e",
   "metadata": {},
   "outputs": [
    {
     "data": {
      "text/plain": [
       "14.0"
      ]
     },
     "execution_count": 38,
     "metadata": {},
     "output_type": "execute_result"
    }
   ],
   "source": [
    "Fi_anterior = dataset.iloc[[id_frequencia_anterior]]['Fi'].values[0]\n",
    "Fi_anterior"
   ]
  },
  {
   "cell_type": "code",
   "execution_count": 39,
   "id": "ccfdf534",
   "metadata": {},
   "outputs": [
    {
     "data": {
      "text/plain": [
       "160.1818181818182"
      ]
     },
     "execution_count": 39,
     "metadata": {},
     "output_type": "execute_result"
    }
   ],
   "source": [
    "mediana = limite_inferior + ((fi_2 - Fi_anterior) * 4) / frequencia_classe\n",
    "mediana"
   ]
  },
  {
   "cell_type": "markdown",
   "id": "6c255bfc",
   "metadata": {},
   "source": [
    "## Média geométrica, harmônica e quadrática"
   ]
  },
  {
   "cell_type": "markdown",
   "id": "e5b77c05",
   "metadata": {},
   "source": [
    "#### Média geométrica"
   ]
  },
  {
   "cell_type": "code",
   "execution_count": 40,
   "id": "8039b613",
   "metadata": {},
   "outputs": [],
   "source": [
    "from scipy.stats.mstats import gmean"
   ]
  },
  {
   "cell_type": "code",
   "execution_count": 41,
   "id": "5276a306",
   "metadata": {},
   "outputs": [],
   "source": [
    "dados = np.array([150,151,152,152,153,154,155,155,155,155,156,156,156,\n",
    "                 157,158,158,160,160,160,160,160,160,161,161,161,161,162,\n",
    "                 163,163,164,164,164,165,166,167,168,168,169,170,172])"
   ]
  },
  {
   "cell_type": "code",
   "execution_count": 42,
   "id": "7186b70c",
   "metadata": {},
   "outputs": [
    {
     "data": {
      "text/plain": [
       "159.9568917355453"
      ]
     },
     "execution_count": 42,
     "metadata": {},
     "output_type": "execute_result"
    }
   ],
   "source": [
    "gmean(dados)"
   ]
  },
  {
   "cell_type": "markdown",
   "id": "73ce4eaf",
   "metadata": {},
   "source": [
    "### Média Harmônica"
   ]
  },
  {
   "cell_type": "code",
   "execution_count": 43,
   "id": "a15348b3",
   "metadata": {},
   "outputs": [],
   "source": [
    "from scipy.stats.mstats import hmean"
   ]
  },
  {
   "cell_type": "code",
   "execution_count": 44,
   "id": "3a97dc04",
   "metadata": {},
   "outputs": [
    {
     "data": {
      "text/plain": [
       "159.86408759079328"
      ]
     },
     "execution_count": 44,
     "metadata": {},
     "output_type": "execute_result"
    }
   ],
   "source": [
    "hmean(dados)"
   ]
  },
  {
   "cell_type": "markdown",
   "id": "61bc7707",
   "metadata": {},
   "source": [
    "### Média quadrática"
   ]
  },
  {
   "cell_type": "code",
   "execution_count": 45,
   "id": "34a26faf",
   "metadata": {},
   "outputs": [],
   "source": [
    "# Implementação de uma função passo a passo, pois não encontrou-se função já feita\n",
    "\n",
    "def quadratic_mean(dados):\n",
    "    return math.sqrt(sum(n * n for n in dados) / len(dados))"
   ]
  },
  {
   "cell_type": "code",
   "execution_count": 46,
   "id": "1cb0e5db",
   "metadata": {},
   "outputs": [
    {
     "data": {
      "text/plain": [
       "160.14337326283595"
      ]
     },
     "execution_count": 46,
     "metadata": {},
     "output_type": "execute_result"
    }
   ],
   "source": [
    "quadratic_mean(dados)"
   ]
  },
  {
   "cell_type": "markdown",
   "id": "9236fc41",
   "metadata": {},
   "source": [
    "# Implementação dos dados quartis"
   ]
  },
  {
   "cell_type": "code",
   "execution_count": 47,
   "id": "780a6141",
   "metadata": {},
   "outputs": [],
   "source": [
    "dados_impar = [150, 151, 152, 152, 153, 154, 155, 155, 155]"
   ]
  },
  {
   "cell_type": "code",
   "execution_count": 48,
   "id": "ee2b57ed",
   "metadata": {},
   "outputs": [
    {
     "name": "stdout",
     "output_type": "stream",
     "text": [
      "Q2: 153.0 e posição 4\n"
     ]
    }
   ],
   "source": [
    "q2 = np.median(dados_impar)\n",
    "print(f\"Q2: {q2} e posição 4\")"
   ]
  },
  {
   "cell_type": "code",
   "execution_count": 49,
   "id": "1c4e9064",
   "metadata": {},
   "outputs": [
    {
     "data": {
      "text/plain": [
       "4"
      ]
     },
     "execution_count": 49,
     "metadata": {},
     "output_type": "execute_result"
    }
   ],
   "source": [
    "posicao_mediana = math.floor(len(dados_impar)/2)\n",
    "posicao_mediana"
   ]
  },
  {
   "cell_type": "code",
   "execution_count": 50,
   "id": "d6b9f6d5",
   "metadata": {},
   "outputs": [
    {
     "data": {
      "text/plain": [
       "[150, 151, 152, 152]"
      ]
     },
     "execution_count": 50,
     "metadata": {},
     "output_type": "execute_result"
    }
   ],
   "source": [
    "esquerda = dados_impar[0:posicao_mediana] # Selecionando os dados a esquerda da mediana\n",
    "esquerda"
   ]
  },
  {
   "cell_type": "code",
   "execution_count": 51,
   "id": "6ebf7419",
   "metadata": {},
   "outputs": [
    {
     "name": "stdout",
     "output_type": "stream",
     "text": [
      "Q1: 151.5\n"
     ]
    }
   ],
   "source": [
    "q1 = np.median(esquerda)\n",
    "print(f'Q1: {q1}')"
   ]
  },
  {
   "cell_type": "code",
   "execution_count": 52,
   "id": "8818b5b3",
   "metadata": {},
   "outputs": [
    {
     "data": {
      "text/plain": [
       "[153, 154, 155, 155, 155]"
      ]
     },
     "execution_count": 52,
     "metadata": {},
     "output_type": "execute_result"
    }
   ],
   "source": [
    "direita = dados_impar[posicao_mediana:] # Selecionando os dados a direita da mediana\n",
    "direita"
   ]
  },
  {
   "cell_type": "code",
   "execution_count": 53,
   "id": "86e89249",
   "metadata": {},
   "outputs": [
    {
     "name": "stdout",
     "output_type": "stream",
     "text": [
      "Q3: 155.0\n"
     ]
    }
   ],
   "source": [
    "q3 = np.median(direita)\n",
    "print(f'Q3: {q3}')"
   ]
  },
  {
   "cell_type": "markdown",
   "id": "8e80917c",
   "metadata": {},
   "source": [
    "### Utilizando o numpy"
   ]
  },
  {
   "cell_type": "code",
   "execution_count": 54,
   "id": "b6d1b549",
   "metadata": {},
   "outputs": [
    {
     "data": {
      "text/plain": [
       "153.0"
      ]
     },
     "execution_count": 54,
     "metadata": {},
     "output_type": "execute_result"
    }
   ],
   "source": [
    "np.quantile(dados_impar, 0.5) # 50% da base de dados"
   ]
  },
  {
   "cell_type": "code",
   "execution_count": 55,
   "id": "fdc60208",
   "metadata": {},
   "outputs": [
    {
     "data": {
      "text/plain": [
       "155.0"
      ]
     },
     "execution_count": 55,
     "metadata": {},
     "output_type": "execute_result"
    }
   ],
   "source": [
    "np.quantile(dados_impar, 0.75) # 75% da base de dados"
   ]
  },
  {
   "cell_type": "code",
   "execution_count": 56,
   "id": "ef694525",
   "metadata": {},
   "outputs": [
    {
     "data": {
      "text/plain": [
       "152.0"
      ]
     },
     "execution_count": 56,
     "metadata": {},
     "output_type": "execute_result"
    }
   ],
   "source": [
    "np.quantile(dados_impar, 0.25) # 25% da base de dados, ele considera tb o valor de 153"
   ]
  },
  {
   "cell_type": "code",
   "execution_count": 57,
   "id": "d7176cfc",
   "metadata": {},
   "outputs": [],
   "source": [
    "# Com a base de dados completa \n",
    "\n",
    "q1 = np.quantile(dados, 0.25) # 25% da base de dados\n",
    "q2 = np.quantile(dados, 0.5) # 50% da base de dados\n",
    "q3 = np.quantile(dados, 0.75) # 75% da base de dados"
   ]
  },
  {
   "cell_type": "code",
   "execution_count": 58,
   "id": "d3b8fe1a",
   "metadata": {},
   "outputs": [
    {
     "name": "stdout",
     "output_type": "stream",
     "text": [
      "Mediana do Q1: 155.75\n",
      "Mediana do Q2: 160.0\n",
      "Mediana do Q3: 164.0\n"
     ]
    }
   ],
   "source": [
    "print(f\"Mediana do Q1: {q1}\") # 25%\n",
    "print(f\"Mediana do Q2: {q2}\") # 50%\n",
    "print(f\"Mediana do Q3: {q3}\") # 75%"
   ]
  },
  {
   "cell_type": "markdown",
   "id": "11413815",
   "metadata": {},
   "source": [
    "### Utilizando Scipy"
   ]
  },
  {
   "cell_type": "code",
   "execution_count": 59,
   "id": "7c2ad5d1",
   "metadata": {},
   "outputs": [
    {
     "data": {
      "text/plain": [
       "(155.75, 160.0, 164.0)"
      ]
     },
     "execution_count": 59,
     "metadata": {},
     "output_type": "execute_result"
    }
   ],
   "source": [
    "stats.scoreatpercentile(dados, 25), stats.scoreatpercentile(dados, 50), stats.scoreatpercentile(dados, 75)"
   ]
  },
  {
   "cell_type": "markdown",
   "id": "798b7fa2",
   "metadata": {},
   "source": [
    "### Base de dados de acesso a crédito"
   ]
  },
  {
   "cell_type": "code",
   "execution_count": 60,
   "id": "61c638ef",
   "metadata": {},
   "outputs": [],
   "source": [
    "# Importando base de dados de Acesso a crédito\n",
    "\n",
    "dataset = pd.read_csv(\"credit_data.csv\")"
   ]
  },
  {
   "cell_type": "code",
   "execution_count": 61,
   "id": "d4581d76",
   "metadata": {},
   "outputs": [],
   "source": [
    "dataset.columns = ['ID', 'Renda', 'Idade', 'Emprestimo', 'AcessoACredito']"
   ]
  },
  {
   "cell_type": "code",
   "execution_count": 62,
   "id": "76b4f63b",
   "metadata": {},
   "outputs": [
    {
     "data": {
      "text/html": [
       "<div>\n",
       "<style scoped>\n",
       "    .dataframe tbody tr th:only-of-type {\n",
       "        vertical-align: middle;\n",
       "    }\n",
       "\n",
       "    .dataframe tbody tr th {\n",
       "        vertical-align: top;\n",
       "    }\n",
       "\n",
       "    .dataframe thead th {\n",
       "        text-align: right;\n",
       "    }\n",
       "</style>\n",
       "<table border=\"1\" class=\"dataframe\">\n",
       "  <thead>\n",
       "    <tr style=\"text-align: right;\">\n",
       "      <th></th>\n",
       "      <th>ID</th>\n",
       "      <th>Renda</th>\n",
       "      <th>Idade</th>\n",
       "      <th>Emprestimo</th>\n",
       "      <th>AcessoACredito</th>\n",
       "    </tr>\n",
       "  </thead>\n",
       "  <tbody>\n",
       "    <tr>\n",
       "      <th>0.25</th>\n",
       "      <td>500.75</td>\n",
       "      <td>32796.459717</td>\n",
       "      <td>28.990415</td>\n",
       "      <td>1939.708847</td>\n",
       "      <td>0.0</td>\n",
       "    </tr>\n",
       "    <tr>\n",
       "      <th>0.50</th>\n",
       "      <td>1000.50</td>\n",
       "      <td>45789.117313</td>\n",
       "      <td>41.317159</td>\n",
       "      <td>3974.719419</td>\n",
       "      <td>0.0</td>\n",
       "    </tr>\n",
       "    <tr>\n",
       "      <th>0.75</th>\n",
       "      <td>1500.25</td>\n",
       "      <td>57791.281668</td>\n",
       "      <td>52.587040</td>\n",
       "      <td>6432.410625</td>\n",
       "      <td>0.0</td>\n",
       "    </tr>\n",
       "  </tbody>\n",
       "</table>\n",
       "</div>"
      ],
      "text/plain": [
       "           ID         Renda      Idade   Emprestimo  AcessoACredito\n",
       "0.25   500.75  32796.459717  28.990415  1939.708847             0.0\n",
       "0.50  1000.50  45789.117313  41.317159  3974.719419             0.0\n",
       "0.75  1500.25  57791.281668  52.587040  6432.410625             0.0"
      ]
     },
     "execution_count": 62,
     "metadata": {},
     "output_type": "execute_result"
    }
   ],
   "source": [
    "dataset.quantile([0.25, 0.5, 0.75])"
   ]
  },
  {
   "cell_type": "markdown",
   "id": "8ab701ff",
   "metadata": {},
   "source": [
    "# Percentis "
   ]
  },
  {
   "cell_type": "markdown",
   "id": "6ebdbee6",
   "metadata": {},
   "source": [
    "Vamos abordar outro conceito da estatística que é o percentis. Diz respeito sobre a divisão dos dados em percentuais. "
   ]
  },
  {
   "cell_type": "code",
   "execution_count": 64,
   "id": "d9fc4777",
   "metadata": {},
   "outputs": [
    {
     "data": {
      "text/plain": [
       "160.0"
      ]
     },
     "execution_count": 64,
     "metadata": {},
     "output_type": "execute_result"
    }
   ],
   "source": [
    "np.median(dados) # Valor central da base de dados"
   ]
  },
  {
   "cell_type": "code",
   "execution_count": 68,
   "id": "9d8fbc5a",
   "metadata": {},
   "outputs": [
    {
     "data": {
      "text/plain": [
       "(151.95, 152.9, 168.0)"
      ]
     },
     "execution_count": 68,
     "metadata": {},
     "output_type": "execute_result"
    }
   ],
   "source": [
    "# Calculando 5% da base de dados\n",
    "\n",
    "np.percentile(dados, 5), np.percentile(dados, 10), np.percentile(dados, 90)  "
   ]
  },
  {
   "cell_type": "code",
   "execution_count": 70,
   "id": "6517c901",
   "metadata": {},
   "outputs": [
    {
     "data": {
      "text/plain": [
       "(151.95000000000002, 152.89999999999998, 168.0)"
      ]
     },
     "execution_count": 70,
     "metadata": {},
     "output_type": "execute_result"
    }
   ],
   "source": [
    "# utilizando a bibliotecas scipy\n",
    "\n",
    "stats.scoreatpercentile(dados, 5), stats.scoreatpercentile(dados, 10), stats.scoreatpercentile(dados, 90)"
   ]
  },
  {
   "cell_type": "code",
   "execution_count": 72,
   "id": "361e9c7f",
   "metadata": {},
   "outputs": [
    {
     "data": {
      "text/html": [
       "<div>\n",
       "<style scoped>\n",
       "    .dataframe tbody tr th:only-of-type {\n",
       "        vertical-align: middle;\n",
       "    }\n",
       "\n",
       "    .dataframe tbody tr th {\n",
       "        vertical-align: top;\n",
       "    }\n",
       "\n",
       "    .dataframe thead th {\n",
       "        text-align: right;\n",
       "    }\n",
       "</style>\n",
       "<table border=\"1\" class=\"dataframe\">\n",
       "  <thead>\n",
       "    <tr style=\"text-align: right;\">\n",
       "      <th></th>\n",
       "      <th>0</th>\n",
       "    </tr>\n",
       "  </thead>\n",
       "  <tbody>\n",
       "    <tr>\n",
       "      <th>0</th>\n",
       "      <td>150</td>\n",
       "    </tr>\n",
       "    <tr>\n",
       "      <th>1</th>\n",
       "      <td>151</td>\n",
       "    </tr>\n",
       "    <tr>\n",
       "      <th>2</th>\n",
       "      <td>152</td>\n",
       "    </tr>\n",
       "    <tr>\n",
       "      <th>3</th>\n",
       "      <td>152</td>\n",
       "    </tr>\n",
       "    <tr>\n",
       "      <th>4</th>\n",
       "      <td>153</td>\n",
       "    </tr>\n",
       "  </tbody>\n",
       "</table>\n",
       "</div>"
      ],
      "text/plain": [
       "     0\n",
       "0  150\n",
       "1  151\n",
       "2  152\n",
       "3  152\n",
       "4  153"
      ]
     },
     "execution_count": 72,
     "metadata": {},
     "output_type": "execute_result"
    }
   ],
   "source": [
    "dataset = pd.DataFrame(dados)\n",
    "dataset.head()"
   ]
  },
  {
   "cell_type": "code",
   "execution_count": 74,
   "id": "825b3023",
   "metadata": {},
   "outputs": [
    {
     "data": {
      "text/html": [
       "<div>\n",
       "<style scoped>\n",
       "    .dataframe tbody tr th:only-of-type {\n",
       "        vertical-align: middle;\n",
       "    }\n",
       "\n",
       "    .dataframe tbody tr th {\n",
       "        vertical-align: top;\n",
       "    }\n",
       "\n",
       "    .dataframe thead th {\n",
       "        text-align: right;\n",
       "    }\n",
       "</style>\n",
       "<table border=\"1\" class=\"dataframe\">\n",
       "  <thead>\n",
       "    <tr style=\"text-align: right;\">\n",
       "      <th></th>\n",
       "      <th>0</th>\n",
       "    </tr>\n",
       "  </thead>\n",
       "  <tbody>\n",
       "    <tr>\n",
       "      <th>0.05</th>\n",
       "      <td>151.95</td>\n",
       "    </tr>\n",
       "    <tr>\n",
       "      <th>0.10</th>\n",
       "      <td>152.90</td>\n",
       "    </tr>\n",
       "    <tr>\n",
       "      <th>0.90</th>\n",
       "      <td>168.00</td>\n",
       "    </tr>\n",
       "  </tbody>\n",
       "</table>\n",
       "</div>"
      ],
      "text/plain": [
       "           0\n",
       "0.05  151.95\n",
       "0.10  152.90\n",
       "0.90  168.00"
      ]
     },
     "execution_count": 74,
     "metadata": {},
     "output_type": "execute_result"
    }
   ],
   "source": [
    "# Observando os percentis baseado nos dados do dataframe\n",
    "\n",
    "dataset.quantile([0.05, 0.10, 0.9])"
   ]
  },
  {
   "cell_type": "markdown",
   "id": "dfea2cfb",
   "metadata": {},
   "source": [
    "## Aplicando os métodos a partir da base de dados de census.csv do EUA"
   ]
  },
  {
   "cell_type": "markdown",
   "id": "6e8e9901",
   "metadata": {},
   "source": [
    "Vamos abordar o estudo sobre análise da média aritmética, média harmônica, média geométrica, média quadrática, a mediana e a moda para os dados de census dos Estados Unidos da América, para a coluna 'age'."
   ]
  },
  {
   "cell_type": "code",
   "execution_count": 75,
   "id": "ed0cc256",
   "metadata": {},
   "outputs": [],
   "source": [
    "dataframe = pd.read_csv('census.csv')"
   ]
  },
  {
   "cell_type": "code",
   "execution_count": 77,
   "id": "574a95d8",
   "metadata": {},
   "outputs": [
    {
     "data": {
      "text/html": [
       "<div>\n",
       "<style scoped>\n",
       "    .dataframe tbody tr th:only-of-type {\n",
       "        vertical-align: middle;\n",
       "    }\n",
       "\n",
       "    .dataframe tbody tr th {\n",
       "        vertical-align: top;\n",
       "    }\n",
       "\n",
       "    .dataframe thead th {\n",
       "        text-align: right;\n",
       "    }\n",
       "</style>\n",
       "<table border=\"1\" class=\"dataframe\">\n",
       "  <thead>\n",
       "    <tr style=\"text-align: right;\">\n",
       "      <th></th>\n",
       "      <th>age</th>\n",
       "      <th>workclass</th>\n",
       "      <th>final-weight</th>\n",
       "      <th>education</th>\n",
       "      <th>education-num</th>\n",
       "      <th>marital-status</th>\n",
       "      <th>occupation</th>\n",
       "      <th>relationship</th>\n",
       "      <th>race</th>\n",
       "      <th>sex</th>\n",
       "      <th>capital-gain</th>\n",
       "      <th>capital-loos</th>\n",
       "      <th>hour-per-week</th>\n",
       "      <th>native-country</th>\n",
       "      <th>income</th>\n",
       "    </tr>\n",
       "  </thead>\n",
       "  <tbody>\n",
       "    <tr>\n",
       "      <th>0</th>\n",
       "      <td>39</td>\n",
       "      <td>State-gov</td>\n",
       "      <td>77516</td>\n",
       "      <td>Bachelors</td>\n",
       "      <td>13</td>\n",
       "      <td>Never-married</td>\n",
       "      <td>Adm-clerical</td>\n",
       "      <td>Not-in-family</td>\n",
       "      <td>White</td>\n",
       "      <td>Male</td>\n",
       "      <td>2174</td>\n",
       "      <td>0</td>\n",
       "      <td>40</td>\n",
       "      <td>United-States</td>\n",
       "      <td>&lt;=50K</td>\n",
       "    </tr>\n",
       "    <tr>\n",
       "      <th>1</th>\n",
       "      <td>50</td>\n",
       "      <td>Self-emp-not-inc</td>\n",
       "      <td>83311</td>\n",
       "      <td>Bachelors</td>\n",
       "      <td>13</td>\n",
       "      <td>Married-civ-spouse</td>\n",
       "      <td>Exec-managerial</td>\n",
       "      <td>Husband</td>\n",
       "      <td>White</td>\n",
       "      <td>Male</td>\n",
       "      <td>0</td>\n",
       "      <td>0</td>\n",
       "      <td>13</td>\n",
       "      <td>United-States</td>\n",
       "      <td>&lt;=50K</td>\n",
       "    </tr>\n",
       "    <tr>\n",
       "      <th>2</th>\n",
       "      <td>38</td>\n",
       "      <td>Private</td>\n",
       "      <td>215646</td>\n",
       "      <td>HS-grad</td>\n",
       "      <td>9</td>\n",
       "      <td>Divorced</td>\n",
       "      <td>Handlers-cleaners</td>\n",
       "      <td>Not-in-family</td>\n",
       "      <td>White</td>\n",
       "      <td>Male</td>\n",
       "      <td>0</td>\n",
       "      <td>0</td>\n",
       "      <td>40</td>\n",
       "      <td>United-States</td>\n",
       "      <td>&lt;=50K</td>\n",
       "    </tr>\n",
       "    <tr>\n",
       "      <th>3</th>\n",
       "      <td>53</td>\n",
       "      <td>Private</td>\n",
       "      <td>234721</td>\n",
       "      <td>11th</td>\n",
       "      <td>7</td>\n",
       "      <td>Married-civ-spouse</td>\n",
       "      <td>Handlers-cleaners</td>\n",
       "      <td>Husband</td>\n",
       "      <td>Black</td>\n",
       "      <td>Male</td>\n",
       "      <td>0</td>\n",
       "      <td>0</td>\n",
       "      <td>40</td>\n",
       "      <td>United-States</td>\n",
       "      <td>&lt;=50K</td>\n",
       "    </tr>\n",
       "    <tr>\n",
       "      <th>4</th>\n",
       "      <td>28</td>\n",
       "      <td>Private</td>\n",
       "      <td>338409</td>\n",
       "      <td>Bachelors</td>\n",
       "      <td>13</td>\n",
       "      <td>Married-civ-spouse</td>\n",
       "      <td>Prof-specialty</td>\n",
       "      <td>Wife</td>\n",
       "      <td>Black</td>\n",
       "      <td>Female</td>\n",
       "      <td>0</td>\n",
       "      <td>0</td>\n",
       "      <td>40</td>\n",
       "      <td>Cuba</td>\n",
       "      <td>&lt;=50K</td>\n",
       "    </tr>\n",
       "  </tbody>\n",
       "</table>\n",
       "</div>"
      ],
      "text/plain": [
       "   age          workclass  final-weight   education  education-num  \\\n",
       "0   39          State-gov         77516   Bachelors             13   \n",
       "1   50   Self-emp-not-inc         83311   Bachelors             13   \n",
       "2   38            Private        215646     HS-grad              9   \n",
       "3   53            Private        234721        11th              7   \n",
       "4   28            Private        338409   Bachelors             13   \n",
       "\n",
       "        marital-status          occupation    relationship    race      sex  \\\n",
       "0        Never-married        Adm-clerical   Not-in-family   White     Male   \n",
       "1   Married-civ-spouse     Exec-managerial         Husband   White     Male   \n",
       "2             Divorced   Handlers-cleaners   Not-in-family   White     Male   \n",
       "3   Married-civ-spouse   Handlers-cleaners         Husband   Black     Male   \n",
       "4   Married-civ-spouse      Prof-specialty            Wife   Black   Female   \n",
       "\n",
       "   capital-gain  capital-loos  hour-per-week  native-country  income  \n",
       "0          2174             0             40   United-States   <=50K  \n",
       "1             0             0             13   United-States   <=50K  \n",
       "2             0             0             40   United-States   <=50K  \n",
       "3             0             0             40   United-States   <=50K  \n",
       "4             0             0             40            Cuba   <=50K  "
      ]
     },
     "execution_count": 77,
     "metadata": {},
     "output_type": "execute_result"
    }
   ],
   "source": [
    "dataframe.head()"
   ]
  },
  {
   "cell_type": "code",
   "execution_count": 79,
   "id": "ae839a3b",
   "metadata": {},
   "outputs": [
    {
     "data": {
      "text/plain": [
       "38.58164675532078"
      ]
     },
     "execution_count": 79,
     "metadata": {},
     "output_type": "execute_result"
    }
   ],
   "source": [
    "# Média aritmética \n",
    "\n",
    "dataframe['age'].mean()"
   ]
  },
  {
   "cell_type": "code",
   "execution_count": 80,
   "id": "babc7e30",
   "metadata": {},
   "outputs": [
    {
     "data": {
      "text/plain": [
       "33.91874139089839"
      ]
     },
     "execution_count": 80,
     "metadata": {},
     "output_type": "execute_result"
    }
   ],
   "source": [
    "# Média harmônica \n",
    "\n",
    "hmean(dataframe['age'])"
   ]
  },
  {
   "cell_type": "code",
   "execution_count": 81,
   "id": "18c62f65",
   "metadata": {},
   "outputs": [
    {
     "data": {
      "text/plain": [
       "36.210879158177256"
      ]
     },
     "execution_count": 81,
     "metadata": {},
     "output_type": "execute_result"
    }
   ],
   "source": [
    "# Média geométrica\n",
    "\n",
    "gmean(dataframe['age'])"
   ]
  },
  {
   "cell_type": "code",
   "execution_count": 83,
   "id": "67e7801e",
   "metadata": {},
   "outputs": [
    {
     "data": {
      "text/plain": [
       "40.9218664329987"
      ]
     },
     "execution_count": 83,
     "metadata": {},
     "output_type": "execute_result"
    }
   ],
   "source": [
    "# Média quadrática \n",
    "\n",
    "quadratic_mean(dataframe['age'])"
   ]
  },
  {
   "cell_type": "code",
   "execution_count": 84,
   "id": "1910c405",
   "metadata": {},
   "outputs": [
    {
     "data": {
      "text/plain": [
       "37.0"
      ]
     },
     "execution_count": 84,
     "metadata": {},
     "output_type": "execute_result"
    }
   ],
   "source": [
    "# Mediana \n",
    "\n",
    "dataframe['age'].median()"
   ]
  },
  {
   "cell_type": "code",
   "execution_count": 85,
   "id": "d2cdc38e",
   "metadata": {},
   "outputs": [
    {
     "data": {
      "text/plain": [
       "0    36\n",
       "dtype: int64"
      ]
     },
     "execution_count": 85,
     "metadata": {},
     "output_type": "execute_result"
    }
   ],
   "source": [
    "# Moda\n",
    "\n",
    "dataframe['age'].mode()"
   ]
  },
  {
   "cell_type": "code",
   "execution_count": 86,
   "id": "e24ab7fd",
   "metadata": {},
   "outputs": [
    {
     "data": {
      "text/plain": [
       "36"
      ]
     },
     "execution_count": 86,
     "metadata": {},
     "output_type": "execute_result"
    }
   ],
   "source": [
    "# Outro modo de calcular a moda\n",
    "\n",
    "statistics.mode(dataframe['age'])"
   ]
  },
  {
   "cell_type": "code",
   "execution_count": null,
   "id": "47beaf46",
   "metadata": {},
   "outputs": [],
   "source": []
  }
 ],
 "metadata": {
  "kernelspec": {
   "display_name": "Python 3",
   "language": "python",
   "name": "python3"
  },
  "language_info": {
   "codemirror_mode": {
    "name": "ipython",
    "version": 3
   },
   "file_extension": ".py",
   "mimetype": "text/x-python",
   "name": "python",
   "nbconvert_exporter": "python",
   "pygments_lexer": "ipython3",
   "version": "3.8.8"
  }
 },
 "nbformat": 4,
 "nbformat_minor": 5
}
